{
 "cells": [
  {
   "cell_type": "markdown",
   "metadata": {},
   "source": [
    "# **Let’s Practice**\n",
    "\n",
    "## **Question #1**\n",
    "\n",
    "Write a program to calculate the length of a person's first name."
   ]
  },
  {
   "cell_type": "code",
   "execution_count": null,
   "metadata": {},
   "outputs": [],
   "source": [
    "# Input\n",
    "Enter your name: 'Shafanda Nabil Sembodo'\n",
    "\n",
    "# Code\n",
    "name = input('Enter Your Name: ').split()\n",
    "print(f'The length of your first name letter: {len(name[0])}')\n",
    "\n",
    "# Output\n",
    "The length of your first name letter: 8"
   ]
  },
  {
   "cell_type": "markdown",
   "metadata": {},
   "source": [
    "## **Question #2**\n",
    "\n",
    "Write a program to retrieve the odd numbered characters of a person's name."
   ]
  },
  {
   "cell_type": "code",
   "execution_count": null,
   "metadata": {},
   "outputs": [],
   "source": [
    "# Input\n",
    "Enter your name: 'Shafanda Nabil Sembodo'\n",
    "\n",
    "# Code\n",
    "name = input('Enter your name: ').upper()\n",
    "print(f'Your code: {name[1::2]}')\n",
    "\n",
    "# Output\n",
    "Your code: 'HFNANBLSMOO'"
   ]
  },
  {
   "cell_type": "markdown",
   "metadata": {},
   "source": [
    "## **Question #3**\n",
    "\n",
    "Write a program that will give you the result of adding and reversing four-digit numbers."
   ]
  },
  {
   "cell_type": "code",
   "execution_count": null,
   "metadata": {},
   "outputs": [],
   "source": [
    "# Input\n",
    "Enter the four digit number: 4567\n",
    "\n",
    "# Code\n",
    "number = input('Enter the four digit number: ')\n",
    "number1 = int(number) // 1000\n",
    "number2 = int(number) % 1000 // 100\n",
    "number3 = int(number) % 1000 % 100 // 10\n",
    "number4 = int(number) % 1000 % 100 % 10\n",
    "reverse = number[::-1]\n",
    "print(f'total = {number1 + number2 + number3 + number4}')\n",
    "print(f'reverse = {reverse}')\n",
    "\n",
    "# Output\n",
    "total: 22\n",
    "reverse: 7654"
   ]
  },
  {
   "cell_type": "markdown",
   "metadata": {},
   "source": [
    "## **Question #4**\n",
    "\n",
    "Write a script that prompts the user to enter the coordinates of point (x, y). Find the slope and Euclidean distance between point (x1, y1) and point (x2, y2)."
   ]
  },
  {
   "cell_type": "code",
   "execution_count": null,
   "metadata": {},
   "outputs": [],
   "source": [
    "# Input\n",
    "Enter the coordinate of point A: 2, 5\n",
    "Enter the coordinate of point B: 3, 7\n",
    "\n",
    "# Code\n",
    "import math\n",
    "x1, y1 = input('Enter the coordinate of point A: ').split(',')\n",
    "x2, y2 = input('Enter the coordinate of point B: ').split(',')\n",
    "x1, y1, x2, y2 = int(x1), int(y1), int(x2), int(y2) \n",
    "delta_y, delta_x = y2 - y1, x2 - x1\n",
    "slope = delta_y / delta_x\n",
    "var1, var2 = math.pow((x1 - x2), 2), math.pow((y1 - y2), 2)\n",
    "distance = math.sqrt(var1 + var2)\n",
    "print(f'slope: {slope}')\n",
    "print(f'distance: {round(distance, 3)}')\n",
    "\n",
    "# Output\n",
    "slope: 2\n",
    "distance: 2.236"
   ]
  },
  {
   "cell_type": "markdown",
   "metadata": {},
   "source": [
    "## **Question #5**\n",
    "\n",
    "Write a python program to get a single string from two given strings, separated by a space and swap the first three characters of each string."
   ]
  },
  {
   "cell_type": "code",
   "execution_count": null,
   "metadata": {},
   "outputs": [],
   "source": [
    "# Input\n",
    "Enter the sample string: 'purwa, dhika'\n",
    "\n",
    "# Code\n",
    "string1, string2 = input(\"Enter the sample string: \").split(', ')\n",
    "print(f'expected result: {string2[:3]}{string1[3:]} {string1[:3]}{string2[3:]}')\n",
    "\n",
    "# Output\n",
    "expected result: 'dhiwa purka'"
   ]
  },
  {
   "cell_type": "markdown",
   "metadata": {},
   "source": [
    "## **Question #6**\n",
    "\n",
    "Create a new string made of the first, middle, and last characters of each input string."
   ]
  },
  {
   "cell_type": "code",
   "execution_count": null,
   "metadata": {},
   "outputs": [],
   "source": [
    "# Input\n",
    "Enter the first text: 'joGjaKARTa'\n",
    "Enter the second text: 'PurWAdhiKA'\n",
    "\n",
    "# Code\n",
    "text1, text2 = input(\"Enter the first text: \"), input(\"Enter the second text: \")\n",
    "text1_mid, text2_mid = len(text1) // 2, len(text2) // 2\n",
    "print(f\"expected result: {text1[0]}{text2[0]}{text1[text1_mid]}{text2[text2_mid]}{text1[-1]}{text2[-1]}\")\n",
    "\n",
    "# Output\n",
    "expected result: 'jPKdaA'"
   ]
  },
  {
   "cell_type": "markdown",
   "metadata": {},
   "source": [
    "## **Question #7**\n",
    "\n",
    "Given two strings. Write a program to create a new string by appending the second string in the middle of first string."
   ]
  },
  {
   "cell_type": "code",
   "execution_count": null,
   "metadata": {},
   "outputs": [],
   "source": [
    "# Input\n",
    "Enter the first text: 'JCDS'\n",
    "Enter the second text: '0310'\n",
    "\n",
    "# Code\n",
    "string1, string2 = input(\"Enter the first text: \"), input(\"Enter the second text \")\n",
    "string1_split = len(string1) // 2\n",
    "print(f\"expected result: {string1[:string1_split]}{string2}{string1[string1_split:]}\")\n",
    "\n",
    "# Output\n",
    "expected result: 'JC0310DS' "
   ]
  }
 ],
 "metadata": {
  "kernelspec": {
   "display_name": "base",
   "language": "python",
   "name": "python3"
  },
  "language_info": {
   "codemirror_mode": {
    "name": "ipython",
    "version": 3
   },
   "file_extension": ".py",
   "mimetype": "text/x-python",
   "name": "python",
   "nbconvert_exporter": "python",
   "pygments_lexer": "ipython3",
   "version": "3.11.5"
  }
 },
 "nbformat": 4,
 "nbformat_minor": 2
}
