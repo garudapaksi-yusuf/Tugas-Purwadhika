{
 "cells": [
  {
   "cell_type": "markdown",
   "metadata": {},
   "source": [
    "# **Let’s Practice**\n",
    "\n",
    "## Question #1\n",
    "\n",
    "Find a word in the string `spam`, see how many times it appears."
   ]
  },
  {
   "cell_type": "code",
   "execution_count": null,
   "metadata": {},
   "outputs": [],
   "source": [
    "# input: \n",
    "spam = 'ababaababbbbcccbabcc'\n",
    "word = 'bab'\n",
    "count = 0\n",
    "\n",
    "# code:\n",
    "for i in range(len(spam)) :\n",
    "    if word == spam[i : i+3] :\n",
    "        count += 1\n",
    "    \n",
    "print(f'Appeared {count} times')\n",
    "\n",
    "# output:\n",
    "# 'Appeared 3 times'"
   ]
  },
  {
   "cell_type": "markdown",
   "metadata": {},
   "source": [
    "## Question #2\n",
    "\n",
    "Count the number of `o` and `x` in the string `spam` (case sensitive), if they are equal, print `True`, otherwise print `False`."
   ]
  },
  {
   "cell_type": "code",
   "execution_count": null,
   "metadata": {},
   "outputs": [],
   "source": [
    "# input:\n",
    "spam = 'oOxxX'\n",
    "\n",
    "# code:\n",
    "count_o = 0\n",
    "count_x = 0\n",
    "\n",
    "for i in spam :\n",
    "    if 'o' == i :\n",
    "        count_o += 1\n",
    "    if 'x' == i :\n",
    "        count_x += 1\n",
    "        \n",
    "if count_o == count_x :\n",
    "    print(True)\n",
    "else :\n",
    "    print(False)\n",
    "\n",
    "# output:\n",
    "# False"
   ]
  },
  {
   "cell_type": "markdown",
   "metadata": {},
   "source": [
    "## Question #3\n",
    "\n",
    "A narcissistic number are numbers that can be represented by some kind of mathematical manipulation of their digits. A whole number, or integer, that is the sum of the *n*th powers of its digits (e.g., 153 = 1 ** 3 + 5 ** 3 + 3 ** 3)."
   ]
  },
  {
   "cell_type": "code",
   "execution_count": null,
   "metadata": {},
   "outputs": [],
   "source": [
    "# input:\n",
    "spam = 153\n",
    "\n",
    "# code:\n",
    "val = 0\n",
    "\n",
    "for i in str(spam) :\n",
    "    i = int(i)\n",
    "    i = i ** 3\n",
    "    val += i\n",
    "\n",
    "if val == spam :\n",
    "    print(f'{val} is narcissistic number')\n",
    "else :\n",
    "    print(f'{val} is not narcissistic number')\n",
    "\n",
    "# output:\n",
    "# '153 is narcissistic number'"
   ]
  },
  {
   "cell_type": "markdown",
   "metadata": {},
   "source": [
    "## Question #4\n",
    "\n",
    "This exercise continues our use of the modulo operator to determine if numbers are divisible by 3, 5, or both 3 and 5. Divisible by n, means that it can be divided by a number n with no remainder. For example, 10 is divisible by 5, but 11 is not divisible by 5.\n",
    "\n",
    "Write a simple program with a single integer variable named `upTo`. For the numbers 1 up to and including `upTo`, the function prints one of four things:\n",
    "\n",
    "- Prints `Fizz` if the number is only divisible by 3.\n",
    "- Prints `FizzBuzz` if the number is divisible by 3 and 5.\n",
    "- Prints `Buzz` if the number is only divisible by 5.\n",
    "- Prints the number if the number is neither divisible by 3 nor 5.\n",
    "\n",
    "Instead of printing each string or number on a separate line, print them without newlines. For\n",
    "example, your solution is correct if calling `upTo = 35` produces the following output:"
   ]
  },
  {
   "cell_type": "code",
   "execution_count": null,
   "metadata": {},
   "outputs": [],
   "source": [
    "# input\n",
    "# Enter a number (greater than 0) or QUIT: 35\n",
    "upTo = input('Enter a number (greater than 0) or QUIT: ')\n",
    "\n",
    "# code\n",
    "if upTo == 'QUIT':\n",
    "    quit(keep_kernel = True)\n",
    "else:\n",
    "    upTo = int(upTo)\n",
    "    for i in range(1, upTo + 1) :\n",
    "        if i % 3 == 0 and i % 5 == 0 :\n",
    "            print(f'FizzBuzz', end = ' ')\n",
    "        elif i % 3 == 0 :\n",
    "            print(f'Fizz', end = ' ')\n",
    "        elif i % 5 == 0 :\n",
    "            print(f'Buzz', end = ' ')\n",
    "        else :\n",
    "            print(i, end = ' ')\n",
    "\n",
    "# output\n",
    "# 1 2 Fizz 4 Buzz Fizz 7 8 Fizz Buzz 11 Fizz 13 14 FizzBuzz 16 17 Fizz 19 Buzz Fizz 22 23 Fizz Buzz 26 Fizz 28 29 FizzBuzz 31 32 Fizz 34 Buzz"
   ]
  },
  {
   "cell_type": "markdown",
   "metadata": {},
   "source": [
    "## Question #5\n",
    "\n",
    "Find-and-replace is a standard feature in text editors, IDEs, and word processor software. Even the Python language comes with a `replace()` string method since programs often use it. In this exercise, you’ll reimplement this common string operation.\n",
    "\n",
    "Write a simple program that has three main variable: \n",
    "\n",
    "- `text` is the string with text to be replaced\n",
    "- `oldText` is the text to be replaced\n",
    "- `newText` is the replacement text.\n",
    "\n",
    "Keep in mind that this function must be case-sensitive: if you are replacing 'fox' with 'dog', then the 'Fox' in ‘The Fox and fox' won’t be replaced. Your solution is correct if produce following output:"
   ]
  },
  {
   "cell_type": "code",
   "execution_count": null,
   "metadata": {},
   "outputs": [],
   "source": [
    "# input\n",
    "text = 'The Fox and fox.'\n",
    "oldText = 'fox' \n",
    "newText = 'dog'\n",
    "\n",
    "# code\n",
    "if oldText in text:\n",
    "    text = text.replace(oldText, newText)\n",
    "print(text)\n",
    "\n",
    "# output\n",
    "# 'The Fox and dog.'"
   ]
  },
  {
   "cell_type": "markdown",
   "metadata": {},
   "source": [
    "## Question #6\n",
    "\n",
    "The Collatz sequence, also called the 3n + 1 problem, is the simplest impossible math problem (But don’t worry, the program itself is easy enough for beginners). From a starting number, *n*, follow three rules to get the next number in the sequence:\n",
    "\n",
    "- If *n* is `even`, the next number *n* is *n* / 2.\n",
    "- If *n* is `odd`, the next number *n* is *n* * 3 + 1.\n",
    "- If *n* is `1`, stop. Otherwise, repeat.\n",
    "\n",
    "It is generally thought, but so far not mathematically proven, that every starting number eventually terminates at 1. Write a simple program that prompts the user to select a starting number or quit. When user run the program, and the output will look like this:"
   ]
  },
  {
   "cell_type": "code",
   "execution_count": null,
   "metadata": {},
   "outputs": [],
   "source": [
    "# input\n",
    "# Enter a starting number (greater than 0) or QUIT: 26\n",
    "n = input('Enter a starting number (greater than 0) or QUIT: ')\n",
    "\n",
    "# code\n",
    "if n == 'QUIT' :\n",
    "    quit(keep_kernel = True)\n",
    "else :\n",
    "    n = int(n)\n",
    "    while n != 1:\n",
    "        print(f'{int(n)}', end = ', ')\n",
    "        if n % 2 == 0 :\n",
    "            n = n / 2\n",
    "        else :\n",
    "            n = n * 3 + 1\n",
    "    else:\n",
    "        print(f'{int(n)}')\n",
    "\n",
    "# output\n",
    "# 26, 13, 40, 20, 10, 5, 16, 8, 4, 2, 1"
   ]
  },
  {
   "cell_type": "markdown",
   "metadata": {},
   "source": [
    "## Question #7\n",
    "\n",
    "The Fibonacci sequence is a famous mathematical pattern credited to Italian mathematician Fibonacci in the 13th century (though others had discovered it even earlier). The sequence begins with 0 and 1, and the next number is always the sum of the previous two numbers. The sequence continues forever.\n",
    "\n",
    "```python\n",
    "0, 1, 1, 2, 3, 5, 8, 13, 21, 34, 55, 89, 144, 233, 377, 610, 987 . . .\n",
    "```\n",
    "\n",
    "Because Fibonacci numbers quickly become very large, check if the user has entered a number that’s 100 or larger and displays a warning that it may take some time for the output to finish displaying on the screen. The warning in our program reminds the user they can always terminate the program by pressing CTRL-C. When you run the program, the output will look like this:"
   ]
  },
  {
   "cell_type": "code",
   "execution_count": null,
   "metadata": {},
   "outputs": [],
   "source": [
    "# input\n",
    "# Enter the Nth Fibonacci number you wish to calculate or QUIT to quit: 10\n",
    "n = input('Enter the Nth Fibonacci number you wish to calculate or QUIT to quit: ')\n",
    "\n",
    "# code\n",
    "if n == 'QUIT' :\n",
    "    quit(keep_kernel = True)\n",
    "elif int(n) < 100 :\n",
    "    n = int(n)\n",
    "    n_0, n_1 = 0, 1\n",
    "    n_next = n_0 + n_1\n",
    "    count = 1\n",
    "    for i in range(n) :\n",
    "        while count < n :\n",
    "            print(n_0, end = ', ')\n",
    "            count += 1\n",
    "            n_0, n_1 = n_1, n_next\n",
    "            n_next = n_0 + n_1\n",
    "            if count == n :\n",
    "                print(n_0, end = '')\n",
    "else :\n",
    "    print(\"\"\"Warning: it may take some time for the output to finish displaying on the screen.\n",
    "User can always terminate the program by pressing CTRL-C.\"\"\"'\\n')\n",
    "    n = int(n)\n",
    "    n_0, n_1 = 0, 1\n",
    "    n_next = n_0 + n_1\n",
    "    count = 1\n",
    "    for i in range(n) :\n",
    "        while count < n :\n",
    "            print(n_0, end = ', ')\n",
    "            count += 1\n",
    "            n_0, n_1 = n_1, n_next\n",
    "            n_next = n_0 + n_1\n",
    "            if count == n :\n",
    "                print(n_0, end = '')\n",
    "\n",
    "# output\n",
    "# 0, 1, 1, 2, 3, 5, 8, 13, 21, 34"
   ]
  },
  {
   "cell_type": "markdown",
   "metadata": {},
   "source": [
    "## Question #8\n",
    "\n",
    "Write a simple program that can hack messages encrypted with the Caesar cipher, even if you don’t know the key. There are only 26 possible keys for the Caesar cipher, so a computer can easily try all possible decryptions and display the results to the user. In cryptography, we call this technique a *brute-force attack*. When you run the program, the output will look like this:"
   ]
  },
  {
   "cell_type": "code",
   "execution_count": null,
   "metadata": {},
   "outputs": [],
   "source": [
    "# input\n",
    "# Enter the message to hack: QIIX QI FC XLI VSWI FYWLIW XSRMKLX.\n",
    "msg = input('Enter the message to hack: ')\n",
    "\n",
    "# code\n",
    "msg = msg.upper()\n",
    "key = 'ABCDEFGHIJKLMNOPQRSTUVWXYZ'\n",
    "val = 0\n",
    "char = ''\n",
    "\n",
    "for j in range(len(key)):\n",
    "    if j % 2 == 1:\n",
    "        for i in msg :\n",
    "            if i in key :\n",
    "                val = ord(i)\n",
    "                val -= 1\n",
    "                if val == 64:\n",
    "                    val = 90\n",
    "                char += chr(val)\n",
    "            else :\n",
    "                char += i\n",
    "        print(f'Key #{j}: {char}')\n",
    "        msg = ''\n",
    "    else :\n",
    "        for i in char :\n",
    "            if i in key :\n",
    "                val = ord(i)\n",
    "                val -= 1\n",
    "                if val == 64:\n",
    "                    val = 90\n",
    "                msg += chr(val)\n",
    "            else :\n",
    "                msg += i\n",
    "        print(f'Key #{j}: {msg}')\n",
    "        char = ''\n",
    "\n",
    "# output\n",
    "# Key #0: QIIX QI FC XLI VSWI FYWLIW XSRMKLX.\n",
    "# Key #1: PHHW PH EB WKH URVH EXVKHV WRQLJKW. \n",
    "# Key #2: OGGV OG DA VJG TQUG DWUJGU VQPKIJV. \n",
    "# Key #3: NFFU NF CZ UIF SPTF CVTIFT UPOJHIU. \n",
    "# Key #4: MEET ME BY THE ROSE BUSHES TONIGHT. \n",
    "# Key #5: LDDS LD AX SGD QNRD ATRGDR SNMHFGS. \n",
    "# Key #6: KCCR KC ZW RFC PMQC ZSQFCQ RMLGEFR."
   ]
  }
 ],
 "metadata": {
  "kernelspec": {
   "display_name": "base",
   "language": "python",
   "name": "python3"
  },
  "language_info": {
   "codemirror_mode": {
    "name": "ipython",
    "version": 3
   },
   "file_extension": ".py",
   "mimetype": "text/x-python",
   "name": "python",
   "nbconvert_exporter": "python",
   "pygments_lexer": "ipython3",
   "version": "3.11.5"
  }
 },
 "nbformat": 4,
 "nbformat_minor": 2
}
