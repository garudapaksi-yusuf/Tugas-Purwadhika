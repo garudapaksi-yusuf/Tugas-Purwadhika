{
 "cells": [
  {
   "cell_type": "markdown",
   "metadata": {},
   "source": [
    "# Quiz\n",
    "\n",
    "**Answer the following questions to test your knowledge!**\n",
    "\n",
    "1. Why are functions advantageous to have in your programs?"
   ]
  },
  {
   "cell_type": "markdown",
   "metadata": {},
   "source": [
    " > Without functions, we would have to copy and paste every similar codes anytime we need them, and our code would looked messy.  \n",
    " > Otherwise, functions help programmer to avoid code duplication, make our code shorter, easier to read, and easier to update."
   ]
  },
  {
   "cell_type": "markdown",
   "metadata": {},
   "source": [
    "2. When does the code in a function execute: when the function is defined or when the function is called?"
   ]
  },
  {
   "cell_type": "markdown",
   "metadata": {},
   "source": [
    "> To `define` a function is when we type `def` statement followed by its name and parameter inside the function (for example `funct(param)`), and ended with `:`. Then we can type an algorithm in the next line with indentation.  \n",
    "> These are only creating a definition for the function. In order to execute it, we need to `call` the function by typing the function name with an `argument` inside it. By calling the function, we `pass` the argument into the parameter in order to run its algorithm."
   ]
  },
  {
   "cell_type": "markdown",
   "metadata": {},
   "source": [
    "3. What statement creates a function?"
   ]
  },
  {
   "cell_type": "markdown",
   "metadata": {},
   "source": [
    "> As stated above, the answer is `def` statement."
   ]
  },
  {
   "cell_type": "markdown",
   "metadata": {},
   "source": [
    "4. What is the difference between a function and a function call?"
   ]
  },
  {
   "cell_type": "markdown",
   "metadata": {},
   "source": [
    "> As stated above, a function runs its algorithm, while a function call `pass` an argument into the function's parameter."
   ]
  },
  {
   "cell_type": "markdown",
   "metadata": {},
   "source": [
    "5. How many global scopes are there in a Python program? How many local scopes?"
   ]
  },
  {
   "cell_type": "markdown",
   "metadata": {},
   "source": [
    "> There are only one global scope, and this is made when our program is started.  \n",
    "> But, there can be more than one local scope."
   ]
  },
  {
   "cell_type": "markdown",
   "metadata": {},
   "source": [
    "6. What happens to variables in a local scope when the function call returns?"
   ]
  },
  {
   "cell_type": "markdown",
   "metadata": {},
   "source": [
    "> After a `call` returns from a function, variables in local scope defined by the function is removed, and these are no longer available. So if we try to execute the function, Python gives us an error stating that the variables are no longer defined."
   ]
  },
  {
   "cell_type": "markdown",
   "metadata": {},
   "source": [
    "7. What is a return value? Can a return value be part of an expression?"
   ]
  },
  {
   "cell_type": "markdown",
   "metadata": {},
   "source": [
    "> For example, if we call a function `len()` and give an argument such as `Hello`, we would get a value of integer 5, which is the length of string we gave before. The value resulting from calling such function is defined as `return value`.  \n",
    "\n",
    "> It can also be part of an expression, by determining supposed `return value` with `return statement`. This statement consist of:\n",
    "> 1. `return` keyword\n",
    "> 2. value or expression returned to parameter/function."
   ]
  },
  {
   "cell_type": "markdown",
   "metadata": {},
   "source": [
    "8. If a function does not have a return statement, what is the return value of a call to that function?"
   ]
  },
  {
   "cell_type": "markdown",
   "metadata": {},
   "source": [
    "> Python always added `return None` (`None` data type) into the end of code line of a function, every time we give no `return` statement.  \n",
    "> Also, if we use `return` statement without any following values (that is, a `return` keyword by itself), no values would be returned to the function."
   ]
  },
  {
   "cell_type": "markdown",
   "metadata": {},
   "source": [
    "9. How can you force a variable in a function to refer to the global variable?"
   ]
  },
  {
   "cell_type": "markdown",
   "metadata": {},
   "source": [
    "> When we need to do such thing, we can use `global` statement.  \n",
    "> We can also use this statement if we need to modify global variable from inside a local scope (inside a function). By forcing this referral, there would be no local variable made inside the function."
   ]
  },
  {
   "cell_type": "markdown",
   "metadata": {},
   "source": [
    "10. If you had a function named `bacon()` in a module named `spam`, how would you call it after importing `spam`?"
   ]
  },
  {
   "cell_type": "markdown",
   "metadata": {},
   "source": [
    "> We can call the function by following this syntax:"
   ]
  },
  {
   "cell_type": "code",
   "execution_count": null,
   "metadata": {},
   "outputs": [],
   "source": [
    "import spam\n",
    "variableName = spam.bacon()"
   ]
  },
  {
   "cell_type": "markdown",
   "metadata": {},
   "source": [
    "> (No need to define such function, because it is supposedly already defined inside module `spam`)"
   ]
  }
 ],
 "metadata": {
  "kernelspec": {
   "display_name": "base",
   "language": "python",
   "name": "python3"
  },
  "language_info": {
   "codemirror_mode": {
    "name": "ipython",
    "version": 3
   },
   "file_extension": ".py",
   "mimetype": "text/x-python",
   "name": "python",
   "nbconvert_exporter": "python",
   "pygments_lexer": "ipython3",
   "version": "3.11.5"
  }
 },
 "nbformat": 4,
 "nbformat_minor": 2
}
