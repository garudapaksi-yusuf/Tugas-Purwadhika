{
 "cells": [
  {
   "cell_type": "markdown",
   "metadata": {},
   "source": [
    "# Quiz\n",
    "\n",
    "**Answer the following questions to test your knowledge!**\n",
    "\n",
    "1. What are the two values of the Boolean data type? How do you write them?  \n",
    "\n",
    "> Two values of Boolean data type are `True` and `False`.  \n",
    "  \n",
    "> Python states that Boolean `True` and `False` do not include `''` characters such as those added around string data type, and they are always started with capital letter T or F.\n",
    "\n",
    "2. What are the three Boolean operators?\n",
    "\n",
    "> Three Boolean operators are `and`, `or`, & `not`.\n",
    "\n",
    "3. Write out the truth tables of each Boolean operator (that is, every possible combination of Boolean values for the operator and what they evaluate to).\n",
    "\n",
    "- and:\n",
    "\n",
    "|P  |Q  |P and Q|\n",
    "|:-:|:-:|:-----:|\n",
    "|T  |T  |T      |\n",
    "|T  |F  |F      |\n",
    "|F  |T  |F      |\n",
    "|F  |F  |F      |\n",
    "- or:\n",
    "\n",
    "|P  |Q  |P or Q| \n",
    "|:-:|:-:|:----:|\n",
    "|T  |T  |T     |\n",
    "|T  |F  |T     |\n",
    "|F  |T  |T     |\n",
    "|F  |F  |F     |  \n",
    "- not:\n",
    "\n",
    "|P  |not P|\n",
    "|:-:|:---:|\n",
    "|T  |F    |\n",
    "|F  |T    |\n",
    "\n",
    "4. What do the following expressions evaluate to?"
   ]
  },
  {
   "cell_type": "code",
   "execution_count": null,
   "metadata": {},
   "outputs": [],
   "source": [
    "(5 > 4) and (3 == 5)\n",
    "not (5 > 4) \n",
    "(5 > 4) or (3 == 5)\n",
    "not ((5 > 4) or (3 == 5))\n",
    "(True and True) and (True == False)\n",
    "(not False) or (not True)"
   ]
  },
  {
   "cell_type": "markdown",
   "metadata": {},
   "source": [
    "> Those expressions evaluate to these outputs:\n",
    ">> `False`  \n",
    ">> `False`  \n",
    ">> `True`  \n",
    ">> `False`  \n",
    ">> `False`  \n",
    ">> `True`\n",
    "\n",
    "5. What are the six comparison operators?\n",
    "> Six comparison operators are:\n",
    ">> i. `>` (greater than)  \n",
    ">> ii. `<` (less than)  \n",
    ">> iii. `>=` (greater than or equal to)  \n",
    ">> iv.  `<=` (less than or equal to)  \n",
    ">> v. `!=` (not equals)  \n",
    ">> vi. `==` (equals)\n",
    "\n",
    "6. What is the difference between the equal to operator and the assignment operator?\n",
    "> `equal to` operator compares one value against other value ; it needs two `==` symbols.  \n",
    "> `assignment` operator assign value into a variable; it needs one `=` symbol.\n",
    " \n",
    "7. Explain what a condition is and where you would use one.\n",
    "> `condition` is an expression which evaluates statements into `True` or `False` values.  \n",
    "> `condition` always used in the initial part of flow control statements, followed by block of code called `clause`.  \n",
    "> Flow control statements such as `if`, `while`, and `for` decide what `clause` to do based on values of `condition` (either `True` or `False`).\n",
    "8. Identify the three blocks in this code:"
   ]
  },
  {
   "cell_type": "code",
   "execution_count": null,
   "metadata": {},
   "outputs": [],
   "source": [
    "spam = 0\n",
    "if spam == 10:\n",
    "    print('eggs')       # 1st code block\n",
    "    if spam > 5:\n",
    "        print('bacon')  # 2nd code block\n",
    "    else:\n",
    "        print('ham')    # 3rd code block\n",
    "    print('spam')\n",
    "print('spam')"
   ]
  },
  {
   "cell_type": "markdown",
   "metadata": {},
   "source": [
    "9. Write code that prints `Hello` if `1` is stored in `spam`, prints `Howdy` if `2` is stored in `spam`, and prints `Greetings!` if anything `else` is stored in `spam`."
   ]
  },
  {
   "cell_type": "code",
   "execution_count": null,
   "metadata": {},
   "outputs": [],
   "source": [
    "spam = 1\n",
    "for i in range(1, 11):\n",
    "    if spam == 1:\n",
    "        print('Hello')\n",
    "        spam += i\n",
    "    elif spam == 2:\n",
    "        print('Howdy')\n",
    "        spam += i\n",
    "    else:\n",
    "        print('Greetings!')\n",
    "        spam += i"
   ]
  },
  {
   "cell_type": "markdown",
   "metadata": {},
   "source": [
    "10. What keys can you press if your program is stuck in an infinite loop?\n",
    "> Keys we can press if our program is stuck in an infinite loop are `CTRL + C`.\n",
    "\n",
    "11. What is the difference between `break` and `continue`?\n",
    "> `break` statement is added if we need to immediately exit from `for` or `while` clause early (i.e from the iteration loop provided by those clauses).  \n",
    "> `continue` statement also used in `for` or `while` clause. When a program execution reaches `continue` statement, it reverts back to those clauses and reevaluate the statement (whether it is `True` or `False`).\n",
    "\n",
    "12. What is the difference between `range(10)`, `range(0, 10)`, and `range(0, 10, 1)` in a for loop?\n",
    "> First off, we need to understand the syntax of a `range()` function: `range(start, stop, step)`.\n",
    ">> Parameter `start` is an optional parameter; needs an integer number specifying at which position to start the function. Its default value is 0.  \n",
    ">> Parameter `stop` is a required parameter; also an integer number specifying at which position to stop.  \n",
    "\n",
    ">>> Its characteristics is exclusive: the value is not included inside the function. For example, parameter `stop` with a value of `3` means the `range` function starts until a value of `3 - 1 = 2` is achieved.  \n",
    "\n",
    ">> Parameter `step` is an optional parameter; an integer number specifying the incrementation of values from `start` to `stop`. Its default value is 1.  \n",
    "\n",
    "> But based on this, there doesn't seem to be any difference between those functions. `range(10)`, `range(0, 10)`, and `range(0, 10, 1)` all have the same value of `start = 0`, `stop = 10`, and `step = 1`. Some of them specifies the value of `start` and `step`, but these are the same with its default values. \n",
    "\n",
    "13. Write a short program that prints the numbers 1 to 10 using a for loop. Then write an equivalent program that prints the numbers 1 to 10 using a while loop."
   ]
  },
  {
   "cell_type": "code",
   "execution_count": null,
   "metadata": {},
   "outputs": [],
   "source": [
    "for i in range(1, 11):\n",
    "    print(i, end = ' ')\n",
    "print('\\n')\n",
    "\n",
    "j = 0\n",
    "while j < 10:\n",
    "    j += 1\n",
    "    print(j, end = ' ')"
   ]
  },
  {
   "cell_type": "markdown",
   "metadata": {},
   "source": [
    "14. If you had a function named bacon() inside a module named spam, how would you call it after importing spam?\n",
    "> We can call it using such syntax:"
   ]
  },
  {
   "cell_type": "code",
   "execution_count": null,
   "metadata": {},
   "outputs": [],
   "source": [
    "import spam\n",
    "\n",
    "var = spam.bacon()"
   ]
  }
 ],
 "metadata": {
  "kernelspec": {
   "display_name": "base",
   "language": "python",
   "name": "python3"
  },
  "language_info": {
   "codemirror_mode": {
    "name": "ipython",
    "version": 3
   },
   "file_extension": ".py",
   "mimetype": "text/x-python",
   "name": "python",
   "nbconvert_exporter": "python",
   "pygments_lexer": "ipython3",
   "version": "3.11.5"
  }
 },
 "nbformat": 4,
 "nbformat_minor": 2
}
