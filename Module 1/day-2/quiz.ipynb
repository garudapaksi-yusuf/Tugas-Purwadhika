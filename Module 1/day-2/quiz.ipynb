{
 "cells": [
  {
   "cell_type": "markdown",
   "metadata": {},
   "source": [
    "1。 Four data types are `numerics`, `sequences`, `mappings`, and `set`.\n"
   ]
  },
  {
   "cell_type": "markdown",
   "metadata": {},
   "source": [
    "2。Mutable is a characteristic of collection/container data type (Dictionary, List, Set, except Tuple). General methods such as addition, substraction, and rearranging members of these data types can be done.  \n",
    "  \n",
    "Other than those data types (i.e. Integers, Float, String, and Tuple) are considered immutable. These can not be changed after being made, and do not have general methods such as those in mutable data types.\n",
    "Below are examples of each of these:"
   ]
  },
  {
   "cell_type": "code",
   "execution_count": null,
   "metadata": {},
   "outputs": [],
   "source": [
    "# Mutable Data Type\n",
    "spamList = [1, 3.54, 'Gaga', True]                      # Sequence type - List\n",
    "spamRange = range(1, 10)                                # Sequence type - Range\n",
    "spamDict = {'name': 'Gaga', 'male': True}               # Mapping type - Dictionary\n",
    "spamSet = {'car', 12, True}                             # Set type - Set"
   ]
  },
  {
   "cell_type": "code",
   "execution_count": null,
   "metadata": {},
   "outputs": [],
   "source": [
    "# Immutable Data Type\n",
    "spamInt = 12                            # Numeric type - Integer\n",
    "spamFloat = 10.56                       # Numeric type - Float\n",
    "spamStr = 'Gaga'                        # Sequence type - String\n",
    "spamTuple = ('car', 12, 15.3, True)     # Sequence type - Tuple"
   ]
  },
  {
   "cell_type": "markdown",
   "metadata": {},
   "source": [
    "3。Those of operators are: `*`, `-`, `/`, and `+`,  \n",
    "while those of values are: `'hello'`, `-88.8`, and `5`"
   ]
  },
  {
   "cell_type": "markdown",
   "metadata": {},
   "source": [
    "\n",
    "4。`eggs` is a valid variable name because it obeys the basic naming rule of variable: __variable name must begin with letters or underscore character `_`__\n",
    "  \n",
    "`100` is an invalid variable name because ___a variable name cannot begin with numbers___; it can only begin with letters or underscore character"
   ]
  },
  {
   "cell_type": "markdown",
   "metadata": {},
   "source": [
    "5。Three functions that can be used to get those versions of a value are `str()` for string, `int()` for integer, and `float()` for float"
   ]
  },
  {
   "cell_type": "markdown",
   "metadata": {},
   "source": [
    "6。That expression is trying to concatenate strings `'I have eaten '` and `' burritos'` with an integer `99`, which can not be done and therefore causing an error. But we can fix it if we first convert the integer into a string using str() method into the integer value:"
   ]
  },
  {
   "cell_type": "code",
   "execution_count": null,
   "metadata": {},
   "outputs": [],
   "source": [
    "print('I have eaten ' + str(99) + ' burritos.')"
   ]
  },
  {
   "cell_type": "markdown",
   "metadata": {},
   "source": [
    "or by modifying the code using string interpolation:"
   ]
  },
  {
   "cell_type": "code",
   "execution_count": null,
   "metadata": {},
   "outputs": [],
   "source": [
    "n = 99\n",
    "print('I have eaten %s burritos' % (n))"
   ]
  },
  {
   "cell_type": "markdown",
   "metadata": {},
   "source": [
    "by using f-string:"
   ]
  },
  {
   "cell_type": "code",
   "execution_count": null,
   "metadata": {},
   "outputs": [],
   "source": [
    "n = 99\n",
    "print(f'I have eaten {n} burritos')"
   ]
  },
  {
   "cell_type": "markdown",
   "metadata": {},
   "source": [
    "and by using format() method:"
   ]
  },
  {
   "cell_type": "code",
   "execution_count": null,
   "metadata": {},
   "outputs": [],
   "source": [
    "txt = ('I have eaten {} burritos')\n",
    "print(txt.format(99))"
   ]
  },
  {
   "cell_type": "markdown",
   "metadata": {},
   "source": [
    "7。Those escape characters represent ___New Line___ for `\\n` and ___Tab___ for `\\t`"
   ]
  },
  {
   "cell_type": "markdown",
   "metadata": {},
   "source": [
    "8。We can put a `\\` backslash character in a string by using escape character `\\\\`, such as:"
   ]
  },
  {
   "cell_type": "code",
   "execution_count": null,
   "metadata": {},
   "outputs": [],
   "source": [
    "print('backslash character: \\\\')"
   ]
  },
  {
   "cell_type": "markdown",
   "metadata": {},
   "source": [
    "9。The single quote character in that word wouldn't be a problem, even though it isn't escaped, because that character is inside these double quotation marks `\"\"` and regarded as a string.  \n",
    "  \n",
    "It is not considered as a single quote escape character, which also requires a backslash character `\\` to be put before it."
   ]
  },
  {
   "cell_type": "markdown",
   "metadata": {},
   "source": [
    "10。Those expressions evaluate to these outputs:\n",
    "\n",
    ">`o`\n",
    "\n",
    ">`,olleH`\n",
    "\n",
    ">`llo, `\n",
    "\n",
    ">`llo, worl`"
   ]
  },
  {
   "cell_type": "markdown",
   "metadata": {},
   "source": [
    "11。Those expressions evaluate to these outputs:\n",
    "\n",
    ">`HELLO`\n",
    "\n",
    ">`Hello`\n",
    "\n",
    ">`hello`"
   ]
  },
  {
   "cell_type": "markdown",
   "metadata": {},
   "source": [
    "12。Those expressions evaluate to these outputs:\n",
    "\n",
    ">`['Re', 'e', 'ber, re', 'e', 'ber, the fifth of Nove', 'ber']`\n",
    "\n",
    ">`There-can-be-only-one`"
   ]
  }
 ],
 "metadata": {
  "kernelspec": {
   "display_name": "base",
   "language": "python",
   "name": "python3"
  },
  "language_info": {
   "codemirror_mode": {
    "name": "ipython",
    "version": 3
   },
   "file_extension": ".py",
   "mimetype": "text/x-python",
   "name": "python",
   "nbconvert_exporter": "python",
   "pygments_lexer": "ipython3",
   "version": "3.11.5"
  }
 },
 "nbformat": 4,
 "nbformat_minor": 2
}
