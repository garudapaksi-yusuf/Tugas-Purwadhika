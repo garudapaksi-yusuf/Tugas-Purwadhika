{
 "cells": [
  {
   "cell_type": "markdown",
   "metadata": {},
   "source": [
    "# **Let’s Practice**\n",
    "\n",
    "## Question #1\n",
    "\n",
    "Python’s built-in min() and max() functions return the smallest and biggest numbers in a list of numbers passed, respectively. In this exercise, you’ll reimplement the behavior of these functions. Write a `getSmallest()` function that has a numbers parameter. The numbers parameter will be a list of integer and floating-point number values. The function returns the smallest value in the list. Your solution is correct if the following assert statements’ conditions are all True:"
   ]
  },
  {
   "cell_type": "code",
   "execution_count": null,
   "metadata": {},
   "outputs": [],
   "source": [
    "assert getSmallest([1, 2, 3]) == 1\n",
    "assert getSmallest([3, 2, 1]) == 1\n",
    "assert getSmallest([28, 25, 42, 2, 28]) == 2\n",
    "assert getSmallest([1]) == 1\n",
    "assert getSmallest([]) == None"
   ]
  },
  {
   "cell_type": "code",
   "execution_count": null,
   "metadata": {},
   "outputs": [],
   "source": [
    "def getSmallest(list) :\n",
    "    \n",
    "    if list == [] :\n",
    "        return None\n",
    "    \n",
    "    Smallest = list[0]\n",
    "    for value in list :\n",
    "        if value < Smallest :\n",
    "            Smallest = value\n",
    "\n",
    "    return Smallest\n",
    "\n",
    "assert getSmallest([1, 2, 3]) == 1\n",
    "assert getSmallest([3, 2, 1]) == 1\n",
    "assert getSmallest([28, 25, 42, 2, 28]) == 2\n",
    "assert getSmallest([1]) == 1\n",
    "assert getSmallest([]) == None"
   ]
  },
  {
   "cell_type": "markdown",
   "metadata": {},
   "source": [
    "## Question #2\n",
    "\n",
    "You are given a list `nums`, write a `findIndex()` function to return the index of two items whose sum equals the `target`. Each input has one solution, and you cannot use the same item twice."
   ]
  },
  {
   "cell_type": "code",
   "execution_count": null,
   "metadata": {},
   "outputs": [],
   "source": [
    "# input\n",
    "nums = [2, 7, 11, 15] \n",
    "target = 9\n",
    "#findIndex(nums, target)\n",
    "\n",
    "# code\n",
    "\n",
    "def findIndex() :\n",
    "\n",
    "    list = []\n",
    "    for index, num in enumerate(nums) :\n",
    "        if target - num in nums :\n",
    "            list.append(index)\n",
    "            \n",
    "    print(tuple(list))\n",
    "\n",
    "findIndex()\n",
    "\n",
    "# output\n",
    "# (0, 1)"
   ]
  },
  {
   "cell_type": "markdown",
   "metadata": {},
   "source": [
    "## Question #3\n",
    "\n",
    "You are given a tuple `nums`, write a `sortTuple()` function to sort value by second item."
   ]
  },
  {
   "cell_type": "code",
   "execution_count": null,
   "metadata": {},
   "outputs": [],
   "source": [
    "nums = (('a', 1), ('b', 3), ('c', 5), ('d', 2))\n",
    "type(nums)"
   ]
  },
  {
   "cell_type": "code",
   "execution_count": null,
   "metadata": {},
   "outputs": [],
   "source": [
    "# input\n",
    "nums = (('a', 1), ('b', 3), ('c', 5), ('d', 2))\n",
    "# sortTuple(nums)\n",
    "\n",
    "# code\n",
    "def sortTuple(nums) :\n",
    "    \n",
    "    nums = list(nums)\n",
    "    for i in range(len(nums)) :\n",
    "        for j in range(len(nums) - 1) :\n",
    "            if nums[i][-1] < nums[j][-1] :\n",
    "                nums[i], nums[j] = nums[j], nums[i]\n",
    "\n",
    "    return tuple(nums)\n",
    "\n",
    "sortTuple(nums)\n",
    "\n",
    "# output\n",
    "# (('a', 1), ('d', 2), ('b', 3), ('c', 5))"
   ]
  },
  {
   "cell_type": "markdown",
   "metadata": {},
   "source": [
    "## Question #4\n",
    "\n",
    "You are given two lists `l1` and `l2` that represent two positive integers each. Each digit of the numbers is stored in reverse order, and each item represents one digit. Write a `addList()` function to add the two numbers and return the sum as an inverted list."
   ]
  },
  {
   "cell_type": "code",
   "execution_count": null,
   "metadata": {},
   "outputs": [],
   "source": [
    "# input\n",
    "l1 = [2, 4, 3]\n",
    "l2 = [5, 6, 4]\n",
    "# addList(l1, l2)\n",
    "\n",
    "# code\n",
    "def addList(list1, list2) :\n",
    "\n",
    "    int_list1 = ''\n",
    "    for i in list1 :\n",
    "        int_list1 += str(i)\n",
    "    int_list1 = int(int_list1)\n",
    "\n",
    "    int_list2 = ''\n",
    "    for j in list2 :\n",
    "        int_list2 += str(j)\n",
    "    int_list2 = int(int_list2)\n",
    "\n",
    "    sum = int_list1 + int_list2\n",
    "    list_sum = [int(i) for i in str(sum)]\n",
    "    list_sum.reverse()\n",
    "    \n",
    "    return tuple(list_sum)\n",
    "\n",
    "addList(l1, l2)\n",
    "\n",
    "# output\n",
    "# (7, 0, 8)"
   ]
  },
  {
   "cell_type": "markdown",
   "metadata": {},
   "source": [
    "## Question #5\n",
    "\n",
    "One of the most efficient sorting algorithms is the merge sort algorithm. Merge sort has two phases: the dividing phase and the merge phase. Write a `mergeTwoLists()` function with two parameters `list1` and `list2`. The lists of numbers passed for these parameters are already in sorted order from smallest to largest number. The function returns a single sorted list of all numbers from these two lists.\n",
    "\n",
    "You could write this function in one line of code by using Python’s `sorted()` function: return sorted(list1 + list2). **But this would defeat the purpose of the exercise, so don’t use the sorted() function or sort() method as part of your solution.** Your solution is correct if the following assert statements’ conditions are all True:"
   ]
  },
  {
   "cell_type": "code",
   "execution_count": null,
   "metadata": {},
   "outputs": [],
   "source": [
    "assert mergeTwoLists([1, 3, 6], [5, 7, 8, 9]) == [1, 3, 5, 6, 7, 8, 9]\n",
    "assert mergeTwoLists([4, 5], [1, 2, 3]) == [1, 2, 3, 4, 5]\n",
    "assert mergeTwoLists([2, 2, 2], [2, 2, 2]) == [2, 2, 2, 2, 2, 2]\n",
    "assert mergeTwoLists([], [1, 2, 3]) == [1, 2, 3]"
   ]
  },
  {
   "cell_type": "code",
   "execution_count": null,
   "metadata": {},
   "outputs": [],
   "source": [
    "def mergeTwoLists(list1, list2) :\n",
    "\n",
    "    Merged = []\n",
    "    for i in list1 :\n",
    "        Merged.append(i)\n",
    "    for j in list2 :\n",
    "        Merged.append(j)\n",
    "\n",
    "    for k in range(len(Merged)) :\n",
    "        for l in range(len(Merged) - 1) :\n",
    "            if Merged[k] < Merged[l] :\n",
    "                Merged[k], Merged[l] = Merged[l], Merged[k]\n",
    "\n",
    "    return Merged\n",
    "\n",
    "assert mergeTwoLists([1, 3, 6], [5, 7, 8, 9]) == [1, 3, 5, 6, 7, 8, 9]\n",
    "assert mergeTwoLists([4, 5], [1, 2, 3]) == [1, 2, 3, 4, 5]\n",
    "assert mergeTwoLists([2, 2, 2], [2, 2, 2]) == [2, 2, 2, 2, 2, 2]\n",
    "assert mergeTwoLists([], [1, 2, 3]) == [1, 2, 3]"
   ]
  },
  {
   "cell_type": "markdown",
   "metadata": {},
   "source": [
    "## Question #6\n",
    "\n",
    "You are given a non-overlapping list `l1` where `l1[i] = [start_i, end_i]` represents the start and end of the i-th interval and the intervals are sorted in ascending order based on i. You are also given an list `l2 = [start, end]` that represents the start and end of another interval. Write a `insertList()` function to insert `l2` into `l1` so that `l1` are still sorted in ascending order and do not overlap (merge overlapping intervals if necessary)."
   ]
  },
  {
   "cell_type": "code",
   "execution_count": 154,
   "metadata": {},
   "outputs": [],
   "source": [
    "# input\n",
    "l1 = [[1, 2], [3, 5], [6, 7], [8, 10], [12, 16]] \n",
    "l2 = [4, 8]\n",
    "#insertList(l1, l2)\n",
    "\n",
    "def insertList(l1, l2):\n",
    "    \n",
    "    for pair in l1:\n",
    "        if pair[1] < l2[0]:\n",
    "            a = pair\n",
    "        elif pair[0] > l2[1]:\n",
    "            c = pair\n",
    "        else:\n",
    "            l2[0] = min(pair[0], l2[0])\n",
    "            l2[1] = max(pair[1], l2[1])\n",
    "\n",
    "    return [a] + [l2] + [c]\n",
    "\n",
    "assert insertList([[1, 2], [3, 5], [6, 7], [8, 10], [12, 16]] , [4, 8]) == [[1, 2], [3, 10], [12, 16]]\n",
    "\n",
    "# output\n",
    "#[[1, 2], [3, 10], [12, 16]]"
   ]
  },
  {
   "cell_type": "markdown",
   "metadata": {},
   "source": [
    "## Question #7\n",
    "\n",
    "While a password made from a single word like yogyakarta or purwadhika is easy to remember, it isn’t secure. A dictionary attack is when hackers program their computers to repeatedly try logging in with every word in the dictionary as the password. A dictionary attack won’t work if you use randomly generated passwords.\n",
    "\n",
    "Write a `generatePassword()` function that has a `length` parameter. The length parameter is an integer of how many characters the generated password should have. **For security reasons, if length is less than 12, the function forcibly sets it to 12 characters anyway.** The password string returned by the function must have at least one lowercase letter, one uppercase letter, one number, and one special character. The special characters for this exercise are ~!**@#$%^&*()_+**.\n",
    "\n",
    "Your solution should import Python’s `random` module to help randomly generate these passwords. Your solution is correct if the following assert statements’ conditions are all True:"
   ]
  },
  {
   "cell_type": "code",
   "execution_count": 145,
   "metadata": {},
   "outputs": [],
   "source": [
    "LOWER_LETTERS = 'abcdefghijklmnopqrstuvwxyz'\n",
    "UPPER_LETTERS = 'ABCDEFGHIJKLMNOPQRSTUVWXYZ'\n",
    "NUMBERS = '1234567890'\n",
    "SPECIAL = '~!@#$%^&*()_+'\n",
    "\n",
    "#password = generatePassword(8)\n",
    "hasLowerCase = False\n",
    "hasUpperCase = False\n",
    "hasNumber = False\n",
    "hasSpecial = False\n",
    "\n",
    "import random\n",
    "\n",
    "def generatePassword(length) :\n",
    "    \n",
    "    if length < 12 :\n",
    "        length = 12\n",
    "\n",
    "    sampleLower = random.sample(LOWER_LETTERS, 3)\n",
    "    sampleUpper = random.sample(UPPER_LETTERS, 3)\n",
    "    sampleNumber = random.sample(NUMBERS, 3)\n",
    "    sampleSpecial = random.sample(SPECIAL, 3)\n",
    "    sampleAdded = sampleLower + sampleUpper + sampleNumber + sampleSpecial\n",
    "    random.shuffle(sampleAdded)\n",
    "\n",
    "    extra = length - 12\n",
    "    extraChar = random.choices(LOWER_LETTERS + UPPER_LETTERS + NUMBERS + SPECIAL, k = extra)\n",
    "\n",
    "    passwordString = ''\n",
    "    for i in sampleAdded + extraChar :\n",
    "        passwordString += i\n",
    "\n",
    "    return passwordString\n",
    "\n",
    "password = generatePassword(8)\n",
    "\n",
    "for char in password:\n",
    "    if char in LOWER_LETTERS:\n",
    "        hasLowerCase = True\n",
    "    if char in UPPER_LETTERS:\n",
    "        hasUpperCase = True\n",
    "    if char in NUMBERS:\n",
    "        hasNumber = True\n",
    "    if char in SPECIAL:\n",
    "        hasSpecial = True\n",
    "\n",
    "assert hasLowerCase and hasUpperCase and hasNumber and hasSpecial"
   ]
  }
 ],
 "metadata": {
  "kernelspec": {
   "display_name": "base",
   "language": "python",
   "name": "python3"
  },
  "language_info": {
   "codemirror_mode": {
    "name": "ipython",
    "version": 3
   },
   "file_extension": ".py",
   "mimetype": "text/x-python",
   "name": "python",
   "nbconvert_exporter": "python",
   "pygments_lexer": "ipython3",
   "version": "3.11.5"
  }
 },
 "nbformat": 4,
 "nbformat_minor": 2
}
