{
 "cells": [
  {
   "cell_type": "markdown",
   "metadata": {},
   "source": [
    "# Quiz\n",
    "\n",
    "**Answer the following questions to test your knowledge!**\n",
    "\n",
    "1. What is []?"
   ]
  },
  {
   "cell_type": "markdown",
   "metadata": {},
   "source": [
    "> `[]` is the syntax of `list` data type. It begins with a square \"opening\" bracket `[` and ends with square \"closing\" bracket `]`."
   ]
  },
  {
   "cell_type": "markdown",
   "metadata": {},
   "source": [
    "2. How would you assign the value `hello` as the third value in a list stored in a variable named `spam`? (Assume `spam` contains `[2, 4, 6, 8, 10]`)"
   ]
  },
  {
   "cell_type": "markdown",
   "metadata": {},
   "source": [
    "> To assign the value `hello` as third value in the list, I would use the `insert()` method.  \n",
    "> With this method we can add/assign value anywhere on a list using its index. "
   ]
  },
  {
   "cell_type": "code",
   "execution_count": null,
   "metadata": {},
   "outputs": [],
   "source": [
    "spam = [2, 4, 6, 8, 10]\n",
    "spam.insert(2, 'hello')"
   ]
  },
  {
   "cell_type": "markdown",
   "metadata": {},
   "source": [
    "3. For the following questions, let’s say spam contains the list ['a', 'b', 'c', 'd']. What does following code evaluate to?"
   ]
  },
  {
   "cell_type": "code",
   "execution_count": null,
   "metadata": {},
   "outputs": [],
   "source": [
    "spam = ['a', 'b', 'c', 'd']\n",
    "spam[int(int('3' * 2) // 11)]\n",
    "spam[-1]\n",
    "spam[:2]"
   ]
  },
  {
   "cell_type": "markdown",
   "metadata": {},
   "source": [
    "> Those codes evaluate to these outputs:"
   ]
  },
  {
   "cell_type": "code",
   "execution_count": null,
   "metadata": {},
   "outputs": [],
   "source": [
    "['d']\n",
    "['d']\n",
    "['a', 'b']"
   ]
  },
  {
   "cell_type": "markdown",
   "metadata": {},
   "source": [
    "4. For the following questions, let’s say bacon contains the list [3.14, 'cat', 11, 'cat', True]. What does following code evaluate to?"
   ]
  },
  {
   "cell_type": "code",
   "execution_count": null,
   "metadata": {},
   "outputs": [],
   "source": [
    "bacon = [3.14, 'cat', 11, 'cat', True]\n",
    "bacon.index('cat')\n",
    "bacon.append(99)\n",
    "bacon.remove('cat')\n",
    "\n",
    "[i for i in bacon if i!='cat']\n",
    "\n",
    "out = []\n",
    "for i in bacon:\n",
    "\t\tif i != 'cat'\n",
    "\t\t\t\tout.append(i)\n",
    "\n",
    "list(filter(lambda x: x!='cat', bacon))"
   ]
  },
  {
   "cell_type": "markdown",
   "metadata": {},
   "source": [
    "> That code evaluate to this output:  \n",
    "> (I assume there is a character `:` in line 10 after string `cat`; otherwise the code wouldn't run and evaluate to `SyntaxError: expected ':'`)"
   ]
  },
  {
   "cell_type": "code",
   "execution_count": null,
   "metadata": {},
   "outputs": [],
   "source": [
    "[3.14, 11, True, 99]"
   ]
  },
  {
   "cell_type": "markdown",
   "metadata": {},
   "source": [
    "5. What are the operators for list concatenation and list replication?"
   ]
  },
  {
   "cell_type": "markdown",
   "metadata": {},
   "source": [
    "> The operators for list concatenation and list replication are operator addition `+` and operator multiplication `*`, respectively."
   ]
  },
  {
   "cell_type": "markdown",
   "metadata": {},
   "source": [
    "6. What is the difference between the `append()` and `insert()` list methods?"
   ]
  },
  {
   "cell_type": "markdown",
   "metadata": {},
   "source": [
    "> `append()` method would add an item directly into the end or last part of a list.  \n",
    "> It only has one parameter `append(elmnt)`, which is an element of any data type. \n",
    " \n",
    "> `insert()` method would add an item to any index part of a list.  \n",
    "> This method has two parameter `insert(pos, elmnt)`. `pos` parameter specifies in which index position to insert the value `elmnt`."
   ]
  },
  {
   "cell_type": "markdown",
   "metadata": {},
   "source": [
    "7. What are two ways to remove values from a list?"
   ]
  },
  {
   "cell_type": "markdown",
   "metadata": {},
   "source": [
    "> Two ways to remove values from a list are:  \n",
    ">> `remove()` function can be used if we know what item/value to remove in a list.  \n",
    ">> `pop()` function if we only know the index number of the list.  \n",
    "\n",
    "> There is actually a third and fourth option:\n",
    ">> `clear()` function clears all values inside the list.  \n",
    ">> `del` keyword deletes the list entirely. This keyword can also be used to delete any object in Python, and not just a list."
   ]
  },
  {
   "cell_type": "markdown",
   "metadata": {},
   "source": [
    "8. Name a few ways that list values are similar to string values. "
   ]
  },
  {
   "cell_type": "markdown",
   "metadata": {},
   "source": [
    "> Similar to `string` which is typed between `''` characters, `list` is also typed inside `[]` characters.  \n",
    "> `string` and `list` can be concatenated and replicated.  \n",
    "> `string` and `list` are also iterable using `for` command, since both are sequence data types.  \n",
    "> `string` and `list` may also be created from other objects or data types, each using `str()` and `list()` method."
   ]
  },
  {
   "cell_type": "markdown",
   "metadata": {},
   "source": [
    "9. What is the difference between lists and tuples?"
   ]
  },
  {
   "cell_type": "markdown",
   "metadata": {},
   "source": [
    "> Tuple syntax uses round brackets `()`, compared with list which uses square brackets `[]`.  \n",
    "> Tuples are immutable; items inside tuples can not be changed, added, or removed. We can only access its values using indexing technique.\n",
    ">> Lists are mutable; items inside them can be changed, added, removed, and also indexed.  \n",
    "\n",
    "> If there is only one item inside a tuple, we need to place a comma character `,` after the item and inside the bracket. For example `(hello,)`.  \n",
    ">> Lists do not need such requirement."
   ]
  },
  {
   "cell_type": "markdown",
   "metadata": {},
   "source": [
    "10. How do you type the tuple value that has just the integer value 42 in it?"
   ]
  },
  {
   "cell_type": "markdown",
   "metadata": {},
   "source": [
    "> As stated above, by placing a comma character `,` after the value and inside the bracket, i.e. `(42,)`.  \n",
    "> Otherwise, it would only be registered as a string data type and not as a tuple."
   ]
  },
  {
   "cell_type": "markdown",
   "metadata": {},
   "source": [
    "11. How can you get the tuple form of a list value? How can you get the list form of a tuple value?"
   ]
  },
  {
   "cell_type": "markdown",
   "metadata": {},
   "source": [
    "> We can get the tuple form of a list value and the list form of a tuple value by using `tuple()` and `list()` functions, respectively.  "
   ]
  },
  {
   "cell_type": "markdown",
   "metadata": {},
   "source": [
    "12. Variables that “contain” list values don’t actually contain lists directly. What do they contain instead?"
   ]
  },
  {
   "cell_type": "markdown",
   "metadata": {},
   "source": [
    "> They contain `None` data type.  \n",
    "> For example, if we have this code:"
   ]
  },
  {
   "cell_type": "code",
   "execution_count": null,
   "metadata": {},
   "outputs": [],
   "source": [
    "list = [1, 2, 3]\n",
    "print(list.append(4))"
   ]
  },
  {
   "cell_type": "markdown",
   "metadata": {},
   "source": [
    "> This code has no return value printed – they return the default `None`.  \n",
    "> [Python Documentation](http://docs.python.org/3.3/library/stdtypes.html#built-in-types) refers to this situation as such:\n",
    ">> Some collection classes are mutable. The methods that add, subtract, or rearrange their members in place, and don’t return a specific item, never return the collection instance itself but None.\n",
    "\n",
    "> The Design and History FAQ [gives the reasoning](http://docs.python.org/faq/design.html#why-doesn-t-list-sort-return-the-sorted-list) behind this design decision (with respect to lists):\n",
    ">> **Why doesn’t list.sort() return the sorted list?**  \n",
    ">> In situations where performance matters, making a copy of the list just to sort it would be wasteful. Therefore, list.sort() sorts the list in place. In order to remind you of that fact, it does not return the sorted list. This way, you won’t be fooled into accidentally overwriting a list when you need a sorted copy but also need to keep the unsorted version around.  \n",
    ">> In Python 2.4 a new built-in function – sorted() – has been added. This function creates a new list from a provided iterable, sorts it and returns it."
   ]
  },
  {
   "cell_type": "markdown",
   "metadata": {},
   "source": [
    "13. What is the difference between `copy.copy()` and `copy.deepcopy()`?"
   ]
  },
  {
   "cell_type": "markdown",
   "metadata": {},
   "source": [
    "> (Both came from `copy` module of Python).  \n",
    "\n",
    "> `copy.copy()` is called Shallow Copy. A shallow copy creates a new object which stores the reference of the original objects.  \n",
    "So, a shallow copy doesn't create a copy of nested objects, instead it just copies the reference of nested objects. This means, a copy process does not recursively create copies of nested objects itself.\n",
    "\n",
    "> For example, we are going to add a new nested list using Shallow Copy:"
   ]
  },
  {
   "cell_type": "code",
   "execution_count": null,
   "metadata": {},
   "outputs": [],
   "source": [
    "import copy\n",
    "\n",
    "old_list = [[1, 1, 1], [2, 2, 2], [3, 3, 3]]\n",
    "new_list = copy.copy(old_list)\n",
    "\n",
    "old_list[1][1] = 'AA'\n",
    "\n",
    "print(\"Old list:\", old_list)\n",
    "print(\"New list:\", new_list)\n",
    "\n",
    "# Output:\n",
    "\n",
    "# Old list: [[1, 1, 1], [2, 'AA', 2], [3, 3, 3]]\n",
    "# New list: [[1, 1, 1], [2, 'AA', 2], [3, 3, 3]]"
   ]
  },
  {
   "cell_type": "markdown",
   "metadata": {},
   "source": [
    "> In the above codes, we made changes to `old_list` i.e `old_list[1][1] = 'AA'`. Both sublists of `old_list` and `new_list` at index `[1][1]` were modified. This is because both lists share the reference of same nested objects."
   ]
  },
  {
   "cell_type": "markdown",
   "metadata": {},
   "source": [
    "> `copy.deepcopy` is called Deep Copy. It creates a new object and recursively adds the copies of nested objects present in the original objects.\n",
    "\n",
    "> Continuing from previous example:"
   ]
  },
  {
   "cell_type": "code",
   "execution_count": null,
   "metadata": {},
   "outputs": [],
   "source": [
    "import copy\n",
    "\n",
    "old_list = [[1, 1, 1], [2, 2, 2], [3, 3, 3]]\n",
    "new_list = copy.deepcopy(old_list)\n",
    "\n",
    "old_list[1][0] = 'BB'\n",
    "\n",
    "print(\"Old list:\", old_list)\n",
    "print(\"New list:\", new_list)\n",
    "\n",
    "# Output:\n",
    "\n",
    "# Old list: [[1, 1, 1], ['BB', 2, 2], [3, 3, 3]]\n",
    "# New list: [[1, 1, 1], [2, 2, 2], [3, 3, 3]]"
   ]
  },
  {
   "cell_type": "markdown",
   "metadata": {},
   "source": [
    "> In the above codes, when we assign a new value to `old_list`, we can see only the `old_list` is modified. This means, both the `old_list` and the `new_list` are independent. This is because the `old_list` was recursively copied, which is true for all of its nested objects."
   ]
  }
 ],
 "metadata": {
  "kernelspec": {
   "display_name": "base",
   "language": "python",
   "name": "python3"
  },
  "language_info": {
   "codemirror_mode": {
    "name": "ipython",
    "version": 3
   },
   "file_extension": ".py",
   "mimetype": "text/x-python",
   "name": "python",
   "nbconvert_exporter": "python",
   "pygments_lexer": "ipython3",
   "version": "3.11.5"
  }
 },
 "nbformat": 4,
 "nbformat_minor": 2
}
