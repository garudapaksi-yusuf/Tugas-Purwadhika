{
 "cells": [
  {
   "cell_type": "markdown",
   "metadata": {},
   "source": [
    "Untuk soal Latihan pertama, coba teman – teman bikin program yang dapat mencari nilai terbesar dan nilai terkecil pada suatu list, kemudian ditampilkan ke terminal. Saat program dijalankan akan muncul seperti yang ada di gambar. Hintnya programnya akan menggunakan python list, 2 variables untuk menampung min dan max value,python conditional statements, python Looping statements, dan tentu python print function juga."
   ]
  },
  {
   "cell_type": "code",
   "execution_count": null,
   "metadata": {},
   "outputs": [],
   "source": [
    "# Input\n",
    "Numbers = [41, 5, 1, 3, 89, 32]\n",
    "\n",
    "# Code\n",
    "index_min = 0\n",
    "index_max = 0\n",
    "\n",
    "for index, value in enumerate(Numbers) :\n",
    "    if value >= Numbers[index_max] :\n",
    "        index_max = index\n",
    "    elif value <= Numbers[index_min] :\n",
    "        index_min = index\n",
    "print(f'Minimum value = {Numbers[index_min]}\\nMaximum value = {Numbers[index_max]}')\n",
    "\n",
    "# Output\n",
    "# Minimum value = 1\n",
    "# Maximum value = 89"
   ]
  },
  {
   "cell_type": "markdown",
   "metadata": {},
   "source": [
    "Untuk soal Latihan kedua, sekarang coba teman - teman bukan hanya mencari nilai terkecil dan terbesar, melainkan coba buat program yang dapat mengurutkan data pada suatu list, dari terkecil ke terbesar, tetapi tanpa dengan menggunakan method sort yang Terdapat di Python List, jadi teman2 harus mencoba bikin programnya sendiri. Contoh output di terminal saat program dijalankan dapat dilihat pada gambar. \n",
    "\n",
    "Hint untuk pengerjaannya, programnya akan menggunakan Python List, Python Conditional Statements, Python Looping Statements, dan Python Print Function."
   ]
  },
  {
   "cell_type": "code",
   "execution_count": null,
   "metadata": {},
   "outputs": [],
   "source": [
    "# Input\n",
    "Numbers = [41, 5, 1, 3, 89, 32]\n",
    "\n",
    "# Code\n",
    "for i in range(len(Numbers)) :\n",
    "    for j in range(len(Numbers) - 1) :\n",
    "        if Numbers[i] < Numbers[j] :\n",
    "            Numbers[i], Numbers[j] = Numbers[j], Numbers[i]\n",
    "print(f'Numbers = {Numbers}')\n",
    "\n",
    "# Output\n",
    "# Numbers = [1, 3, 5, 32, 41, 89]"
   ]
  }
 ],
 "metadata": {
  "kernelspec": {
   "display_name": "base",
   "language": "python",
   "name": "python3"
  },
  "language_info": {
   "codemirror_mode": {
    "name": "ipython",
    "version": 3
   },
   "file_extension": ".py",
   "mimetype": "text/x-python",
   "name": "python",
   "nbconvert_exporter": "python",
   "pygments_lexer": "ipython3",
   "version": "3.11.5"
  }
 },
 "nbformat": 4,
 "nbformat_minor": 2
}
