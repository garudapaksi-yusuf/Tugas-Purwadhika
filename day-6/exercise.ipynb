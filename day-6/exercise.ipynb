{
 "cells": [
  {
   "cell_type": "markdown",
   "metadata": {},
   "source": [
    "Soal latihannya adalah, coba teman-teman buat program sederhana seperti contoh pada gambar. Dimana programnya kalau dijalankan akan meminta input 5 film kesukaan dari user yang dipisahkan dengan koma, dan juga meminta input 5 film kesukaan temannya user dengan metode yang sama. Kemudian tampilkan seberapa besar kesamaan film yang disukai antara user dengan temannya dalam satuan persen."
   ]
  },
  {
   "cell_type": "code",
   "execution_count": null,
   "metadata": {},
   "outputs": [],
   "source": [
    "# Input\n",
    "# Masukkan 5 Film kesukaan anda dipisahkan dengan koma : Avengers, Hulk, Iron Man 3, Wonder Woman, Batman\n",
    "# Masukkan 5 Film kesukaan teman anda dipisahkan dengan koma : Avengers, Hulk, Iron Man 2, Superman, Wonder Woman\n",
    "\n",
    "# Code\n",
    "set_self = set(input('Masukkan 5 Film kesukaan anda dipisahkan dengan koma : ').split(', '))\n",
    "set_friend = set(input('Masukkan 5 Film kesukaan teman anda dipisahkan dengan koma : ').split(', '))\n",
    "\n",
    "set_intersect = set_self.intersection(set_friend)\n",
    "print(f'Kesukaan Film kalian yang sama sebesar {len(set_intersect) / len(set_self) * 100}%')\n",
    "\n",
    "# Output\n",
    "# Kesukaan Film kalian yang sama sebesar 60.0%"
   ]
  }
 ],
 "metadata": {
  "kernelspec": {
   "display_name": "base",
   "language": "python",
   "name": "python3"
  },
  "language_info": {
   "codemirror_mode": {
    "name": "ipython",
    "version": 3
   },
   "file_extension": ".py",
   "mimetype": "text/x-python",
   "name": "python",
   "nbconvert_exporter": "python",
   "pygments_lexer": "ipython3",
   "version": "3.11.5"
  }
 },
 "nbformat": 4,
 "nbformat_minor": 2
}
