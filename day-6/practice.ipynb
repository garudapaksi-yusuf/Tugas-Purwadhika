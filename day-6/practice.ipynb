{
 "cells": [
  {
   "cell_type": "markdown",
   "metadata": {},
   "source": [
    "# **Let’s Practice**\n",
    "\n",
    "## Question #1\n",
    "\n",
    "Imagine that a vanquished dragon’s loot is represented as a list of strings like `dragonLoot`. Write a function named `addToInventory(inventory, addedItems)`, where the inventory parameter is a dictionary representing the player’s inventory (like in the previous project) and the addedItems parameter is a list like dragonLoot. The `addToInventory()` function should return a dictionary that represents the updated inventory. Note that the addedItems list can contain multiples of the same item."
   ]
  },
  {
   "cell_type": "code",
   "execution_count": null,
   "metadata": {},
   "outputs": [],
   "source": [
    "inventory = {'gold coin': 42, 'rope': 1}\n",
    "dragonLoot = ['gold coin', 'dagger', 'gold coin', 'gold coin', 'ruby']\n",
    "# addToInventory(inventory, addedItems)\n",
    "\n",
    "def addToInventory(inventory, addedItems) :\n",
    "\n",
    "    for item in addedItems :\n",
    "        if item in inventory.keys() :\n",
    "            inventory[item] += 1\n",
    "        else :\n",
    "            inventory[item] = 1\n",
    "\n",
    "    print('Inventory')\n",
    "    for key, value, in inventory.items :\n",
    "        print(f'')\n",
    "\n",
    "addToInventory(inventory, dragonLoot)\n",
    "\n",
    "# Inventory:\n",
    "# 45 gold coin\n",
    "# 1 rope\n",
    "# 1 ruby\n",
    "# 1 dagger\n",
    "\n",
    "# Total number of items: 48"
   ]
  },
  {
   "cell_type": "markdown",
   "metadata": {},
   "source": [
    "## Question #2\n",
    "\n",
    "Write a function named `repeatingCount(text)`, where the `text` parameter is a string. Return the first non-repeating character and repeating character that appear in the string."
   ]
  },
  {
   "cell_type": "code",
   "execution_count": null,
   "metadata": {},
   "outputs": [],
   "source": [
    "text = \"123PurwadhikaHeroesHeroes\"\n",
    "# repeatingCount(text)\n",
    "\n",
    "def repeatingCount(text) :\n",
    "\n",
    "    dict = {}\n",
    "    for char in text :\n",
    "        if char in dict.keys() :\n",
    "            dict[char] += 1\n",
    "        else :\n",
    "            dict[char] = 1\n",
    "\n",
    "    for key in dict :\n",
    "        if dict[key] > 1 :\n",
    "            repeating = char\n",
    "\n",
    "    return dict\n",
    "\n",
    "repeatingCount(text)\n",
    " \n",
    "# Non-repeating character: 1\n",
    "# Repeating character: r"
   ]
  },
  {
   "cell_type": "markdown",
   "metadata": {},
   "source": [
    "## Question #3\n",
    "\n",
    "Given a string `text`, the task is to check if every vowel is present or not. We consider a vowel to be present if it is present in upper case or lower case. i.e. a, e, i, o, u or A, E, I, O, U. Your solution is correct if the following assert statements’ conditions are all True:"
   ]
  },
  {
   "cell_type": "code",
   "execution_count": null,
   "metadata": {},
   "outputs": [],
   "source": [
    "# assert check('sEEquOiaL') == True\n",
    "# assert check('Squ0iaL') == False\n",
    "# assert check('') == False"
   ]
  },
  {
   "cell_type": "code",
   "execution_count": null,
   "metadata": {},
   "outputs": [],
   "source": [
    "def check(text) :\n",
    "\n",
    "    vowel_dict = {'A' : 0, 'E' : 0, 'I' : 0, 'O' : 0, 'U' : 0}\n",
    "    text = text.upper()\n",
    "\n",
    "    for char in text :        \n",
    "        if char in vowel_dict :\n",
    "            vowel_dict[char] += 1\n",
    "\n",
    "    if 0 in vowel_dict.values() :\n",
    "        return False\n",
    "    else : \n",
    "        return True\n",
    "\n",
    "assert check('sEEquOiaL') == True\n",
    "assert check('Squ0iaL') == False\n",
    "assert check('') == False"
   ]
  },
  {
   "cell_type": "markdown",
   "metadata": {},
   "source": [
    "## Question #4\n",
    "\n",
    "Given a string `text` of lower case characters. Write a `checkHeterogram()`function to check whether a the given string is Heterogram or not. A heterogram is a word, phrase, or sentence in which no letter of the alphabet occurs more than once. Your solution is correct if the following assert statements’ conditions are all True:"
   ]
  },
  {
   "cell_type": "code",
   "execution_count": null,
   "metadata": {},
   "outputs": [],
   "source": [
    "assert cekHeterogram('purwadhika jogja') == False\n",
    "assert cekHeterogram('jcds 0210') == True\n",
    "assert cekHeterogram('  ') == True"
   ]
  },
  {
   "cell_type": "code",
   "execution_count": null,
   "metadata": {},
   "outputs": [],
   "source": [
    "def cekHeterogram(text) : \n",
    "\n",
    "    dict_text = {}\n",
    "    for char in text :\n",
    "        if char.isalpha() != True :\n",
    "            continue\n",
    "        if char in dict_text.keys() :\n",
    "            dict_text[char] += 1\n",
    "        else :\n",
    "            dict_text[char] = 1\n",
    "\n",
    "    if 2 in dict_text.values() :\n",
    "        return False\n",
    "    else : \n",
    "        return True\n",
    "\n",
    "assert cekHeterogram('purwadhika jogja') == False\n",
    "assert cekHeterogram('jcds 0210') == True\n",
    "assert cekHeterogram('  ') == True"
   ]
  },
  {
   "cell_type": "markdown",
   "metadata": {},
   "source": [
    "## Question #5\n",
    "\n",
    "In Python, the values 15 and '15' are two different values: you can perform mathematics on the integer 15, but the string '15' is the same as any other two-character text string. You can perform mathematical addition on integer values, but not on strings. And you can concatenate or replicate string values, but not integers. A common programming task is to obtain the string equivalent of a number. **You can use the str() function to do this conversion but in this exercise you’ll recreate this function yourself.** Write a `convertInteger()` function with an integerNum parameter, the function works for all integers from -10000 to 9999. Your solution is correct if the following assert statements’ conditions are all True:"
   ]
  },
  {
   "cell_type": "code",
   "execution_count": null,
   "metadata": {},
   "outputs": [],
   "source": [
    "assert convertInteger(0) == '0'\n",
    "assert convertInteger(150) == '150'\n",
    "assert convertInteger(1935) == '1935'\n",
    "assert convertInteger(-1234) == '-1234'"
   ]
  },
  {
   "cell_type": "code",
   "execution_count": null,
   "metadata": {},
   "outputs": [],
   "source": [
    "def convertInteger(integerNum) :\n",
    "\n",
    "    dictNum = {0 : '0', 1 : '1', 2 : '2', 3 : '3', 4 : '4', 5 : '5', 6 : '6', 7 : '7', 8 : '8', 9 : '9'}\n",
    "    stringNum = ''\n",
    "\n",
    "    if integerNum == 0 :\n",
    "        return '0'\n",
    "    \n",
    "    Negative = None\n",
    "    if integerNum > 0 :\n",
    "        Negative = False\n",
    "    else :\n",
    "        integerNum = -integerNum\n",
    "        Negative = True\n",
    "\n",
    "    while integerNum > 0 :\n",
    "        digit = integerNum % 10\n",
    "        stringNum = dictNum[digit] + stringNum\n",
    "        integerNum //= 10\n",
    "    \n",
    "    if Negative :\n",
    "        return '-' + stringNum\n",
    "    else :\n",
    "        return stringNum\n",
    "\n",
    "assert convertInteger(0) == '0'\n",
    "assert convertInteger(150) == '150'\n",
    "assert convertInteger(1935) == '1935'\n",
    "assert convertInteger(-1234) == '-1234'"
   ]
  },
  {
   "cell_type": "markdown",
   "metadata": {},
   "source": [
    "## Question #6\n",
    "\n",
    "The mode is the number that appears most frequently in a list of numbers. Together with the median and average, you can get a descriptive summary of a list of numbers. This exercise tests your ability to use a dictionary to keep a count of the numbers in a list to find the most frequent number. Write a `modeValue()` function that has a numbers parameter. This function returns the mode, or most frequently appearing number, of the list of integer and floating-point numbers passed to the function. Your solution is correct if the following assert statements’ conditions are all True:"
   ]
  },
  {
   "cell_type": "code",
   "execution_count": null,
   "metadata": {},
   "outputs": [],
   "source": [
    "assert modeValue([]) == None\n",
    "assert modeValue([1, 2, 3, 4, 4]) == 4\n",
    "assert modeValue([1, 1, 2, 3, 4]) == 1\n",
    "assert modeValue([1.5, 1.4, 2.1, 3.3, 4.9]) == None"
   ]
  },
  {
   "cell_type": "code",
   "execution_count": 25,
   "metadata": {},
   "outputs": [],
   "source": [
    "def modeValue(numList) : \n",
    "\n",
    "    if numList == [] :\n",
    "        return None\n",
    "    \n",
    "    dictNum = {}\n",
    "    for num in numList :\n",
    "        if num in dictNum.keys() :\n",
    "            dictNum[num] += 1\n",
    "        else :\n",
    "            dictNum[num] = 1\n",
    "\n",
    "    for key, val in dictNum.items() :\n",
    "        if val > 1 :\n",
    "            return key\n",
    "        \n",
    "modeValue([1, 2, 3, 4, 4])\n",
    "\n",
    "assert modeValue([]) == None\n",
    "assert modeValue([1, 2, 3, 4, 4]) == 4\n",
    "assert modeValue([1, 1, 2, 3, 4]) == 1\n",
    "assert modeValue([1.5, 1.4, 2.1, 3.3, 4.9]) == None"
   ]
  },
  {
   "cell_type": "markdown",
   "metadata": {},
   "source": [
    "## Question #7\n",
    "\n",
    "Given a string `text` which contains lower alphabetic characters. Write a `checkBalance()` function to remove at most one character from this string in such a way that frequency of each distinct character becomes same in the string. Your solution is correct if the following assert statements’ conditions are all True:"
   ]
  },
  {
   "cell_type": "code",
   "execution_count": null,
   "metadata": {},
   "outputs": [],
   "source": [
    "assert checkBalance('aa') == 'Yes'\n",
    "assert checkBalance('aabbb') == 'Yes'\n",
    "assert checkBalance('aabbbccc') == 'No'\n",
    "assert checkBalance('aabbbcccc') == 'No'"
   ]
  },
  {
   "cell_type": "code",
   "execution_count": 53,
   "metadata": {},
   "outputs": [
    {
     "data": {
      "text/plain": [
       "{'a': 2, 'b': 3, 'c': 3}"
      ]
     },
     "execution_count": 53,
     "metadata": {},
     "output_type": "execute_result"
    }
   ],
   "source": [
    "def checkBalance(text) :\n",
    "\n",
    "    dictText = {}\n",
    "    for char in text :\n",
    "        if char in dictText.keys() :\n",
    "            dictText[char] += 1\n",
    "        else :\n",
    "            dictText[char] = 1\n",
    "\n",
    "    # Saya belum menemukan algoritma untuk menyamakan value di tiap key dictText\n",
    "    \n",
    "    return dictText\n",
    "\n",
    "checkBalance('aabbbccc')"
   ]
  }
 ],
 "metadata": {
  "kernelspec": {
   "display_name": "base",
   "language": "python",
   "name": "python3"
  },
  "language_info": {
   "codemirror_mode": {
    "name": "ipython",
    "version": 3
   },
   "file_extension": ".py",
   "mimetype": "text/x-python",
   "name": "python",
   "nbconvert_exporter": "python",
   "pygments_lexer": "ipython3",
   "version": "3.11.5"
  }
 },
 "nbformat": 4,
 "nbformat_minor": 2
}
