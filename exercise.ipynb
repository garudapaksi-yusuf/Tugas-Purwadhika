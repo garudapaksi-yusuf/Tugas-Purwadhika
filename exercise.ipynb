{
 "cells": [
  {
   "cell_type": "code",
   "execution_count": null,
   "metadata": {},
   "outputs": [],
   "source": [
    "# Soal 1\n",
    "x, y, z = 4, 3, 2\n",
    "w = (x + y * z) / (x * y) ** z\n",
    "print(w)"
   ]
  },
  {
   "cell_type": "code",
   "execution_count": null,
   "metadata": {},
   "outputs": [],
   "source": [
    "# Soal 2\n",
    "import math\n",
    "\n",
    "entry = int(input('Silahkan masukkan angka berapapun: '))\n",
    "print(f'Kuadrat dari {entry} = {int(math.pow(entry, 2))}')"
   ]
  },
  {
   "cell_type": "code",
   "execution_count": null,
   "metadata": {},
   "outputs": [],
   "source": [
    "# Soal 3\n",
    "num = 485\n",
    "tahun = num // 360\n",
    "bulan = num % 360 // 30\n",
    "minggu = num % 360 % 30 // 7\n",
    "hari = num % 360 % 30 % 7\n",
    "print(f'{tahun} tahun, {bulan} bulan, {minggu} minggu, {hari} hari')"
   ]
  },
  {
   "cell_type": "code",
   "execution_count": null,
   "metadata": {},
   "outputs": [],
   "source": [
    "# Soal 4\n",
    "Andi = 2/7 * 49\n",
    "Budi = 5/7 * 49\n",
    "Andi += 2\n",
    "Budi += 2\n",
    "print(f'Usia Andi 2 tahun lagi = {int(Andi)}, sedangkan usia Budi 2 tahun lagi = {int(Budi)}')"
   ]
  },
  {
   "cell_type": "code",
   "execution_count": null,
   "metadata": {},
   "outputs": [],
   "source": [
    "# Soal 5\n",
    "import math\n",
    "\n",
    "s = 120\n",
    "vA, vB = 60, 40\n",
    "t1 = 9\n",
    "\n",
    "t2 = 120 / (vA + vB)\n",
    "t2 += t1\n",
    "print(f'A & B bertabrakan pada jam {math.floor(t2)}')"
   ]
  },
  {
   "cell_type": "code",
   "execution_count": null,
   "metadata": {},
   "outputs": [],
   "source": [
    "# Soal 6\n",
    "n_apel = int(input('Masukkan Jumlah Apel: '))\n",
    "n_jeruk = int(input('Masukkan Jumlah Jeruk: '))\n",
    "n_anggur = int(input('Masukkan Jumlah Anggur: '))\n",
    "\n",
    "p_apel, p_jeruk, p_anggur = 10000, 15000, 20000\n",
    "sum_apel, sum_jeruk, sum_anggur = (n_apel * p_apel), (n_jeruk * p_jeruk), (n_anggur * p_anggur)\n",
    "\n",
    "print('Detail Belanja')\n",
    "print('\\n')\n",
    "print(f'Apel : {n_apel} x {p_apel} = {sum_apel}')\n",
    "print(f'Jeruk : {n_jeruk} x {p_jeruk} = {sum_jeruk}')\n",
    "print(f'Anggur : {n_anggur} x {p_anggur} = {sum_anggur}')\n",
    "print('\\n')\n",
    "print(f'Total : {sum_apel + sum_jeruk + sum_anggur}')"
   ]
  }
 ],
 "metadata": {
  "kernelspec": {
   "display_name": "base",
   "language": "python",
   "name": "python3"
  },
  "language_info": {
   "codemirror_mode": {
    "name": "ipython",
    "version": 3
   },
   "file_extension": ".py",
   "mimetype": "text/x-python",
   "name": "python",
   "nbconvert_exporter": "python",
   "pygments_lexer": "ipython3",
   "version": "3.11.5"
  }
 },
 "nbformat": 4,
 "nbformat_minor": 2
}
