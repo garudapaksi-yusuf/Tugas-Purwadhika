{
 "cells": [
  {
   "cell_type": "code",
   "execution_count": null,
   "metadata": {},
   "outputs": [],
   "source": [
    "# Question 1\n",
    "name = input('Enter Your Name: ').split()\n",
    "print(f'The length of your first name letter: {len(name[0])}')"
   ]
  },
  {
   "cell_type": "code",
   "execution_count": null,
   "metadata": {},
   "outputs": [],
   "source": [
    "# Question 2\n",
    "name = input('Enter your name: ').upper()\n",
    "print(f'Your code: {name[1::2]}')"
   ]
  },
  {
   "cell_type": "code",
   "execution_count": null,
   "metadata": {},
   "outputs": [],
   "source": [
    "# Question 3\n",
    "number = input('Enter the four digit number: ')\n",
    "number1 = int(number) // 1000\n",
    "number2 = int(number) % 1000 // 100\n",
    "number3 = int(number) % 1000 % 100 // 10\n",
    "number4 = int(number) % 1000 % 100 % 10\n",
    "reverse = number[::-1]\n",
    "print(f'total = {number1 + number2 + number3 + number4}')\n",
    "print(f'reverse = {reverse}')"
   ]
  },
  {
   "cell_type": "code",
   "execution_count": null,
   "metadata": {},
   "outputs": [],
   "source": [
    "# Question 4\n",
    "import math\n",
    "x1, y1 = input('Enter the coordinate of point A: ').split(',')\n",
    "x2, y2 = input('Enter the coordinate of point B: ').split(',')\n",
    "x1, y1, x2, y2 = int(x1), int(y1), int(x2), int(y2) \n",
    "delta_y, delta_x = y2 - y1, x2 - x1\n",
    "slope = delta_y / delta_x\n",
    "var1, var2 = math.pow((x1 - x2), 2), math.pow((y1 - y2), 2)\n",
    "distance = math.sqrt(var1 + var2)\n",
    "print(f'slope: {slope}')\n",
    "print(f'distance: {round(distance, 3)}')"
   ]
  },
  {
   "cell_type": "code",
   "execution_count": null,
   "metadata": {},
   "outputs": [],
   "source": [
    "# Question 5\n",
    "string1, string2 = input(\"Enter the sample string: \").split(', ')\n",
    "print(f'expected result: {string2[:3]}{string1[3:]} {string1[:3]}{string2[3:]}')"
   ]
  },
  {
   "cell_type": "code",
   "execution_count": null,
   "metadata": {},
   "outputs": [],
   "source": [
    "# Question 6\n",
    "text1, text2 = input(\"Enter the first text: \"), input(\"Enter the second text: \")\n",
    "text1_mid, text2_mid = len(text1) // 2, len(text2) // 2\n",
    "print(f\"expected result: {text1[0]}{text2[0]}{text1[text1_mid]}{text2[text2_mid]}{text1[-1]}{text2[-1]}\")"
   ]
  },
  {
   "cell_type": "code",
   "execution_count": null,
   "metadata": {},
   "outputs": [],
   "source": [
    "# Question 7\n",
    "string1, string2 = input(\"Enter the first text: \"), input(\"Enter the second text \")\n",
    "string1_split = len(string1) // 2\n",
    "print(f\"expected result: {string1[:string1_split]}{string2}{string1[string1_split:]}\")"
   ]
  }
 ],
 "metadata": {
  "kernelspec": {
   "display_name": "base",
   "language": "python",
   "name": "python3"
  },
  "language_info": {
   "codemirror_mode": {
    "name": "ipython",
    "version": 3
   },
   "file_extension": ".py",
   "mimetype": "text/x-python",
   "name": "python",
   "nbconvert_exporter": "python",
   "pygments_lexer": "ipython3",
   "version": "3.11.5"
  }
 },
 "nbformat": 4,
 "nbformat_minor": 2
}
